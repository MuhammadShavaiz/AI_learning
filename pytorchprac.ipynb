{
  "nbformat": 4,
  "nbformat_minor": 0,
  "metadata": {
    "colab": {
      "provenance": [],
      "authorship_tag": "ABX9TyOemeOXndN5Lm/sOnbdwyU1",
      "include_colab_link": true
    },
    "kernelspec": {
      "name": "python3",
      "display_name": "Python 3"
    },
    "language_info": {
      "name": "python"
    }
  },
  "cells": [
    {
      "cell_type": "markdown",
      "metadata": {
        "id": "view-in-github",
        "colab_type": "text"
      },
      "source": [
        "<a href=\"https://colab.research.google.com/github/MuhammadShavaiz/pytorch-google-colab/blob/main/pytorchprac.ipynb\" target=\"_parent\"><img src=\"https://colab.research.google.com/assets/colab-badge.svg\" alt=\"Open In Colab\"/></a>"
      ]
    },
    {
      "cell_type": "code",
      "execution_count": 1,
      "metadata": {
        "id": "2dnup3gywePL"
      },
      "outputs": [],
      "source": [
        "import torch"
      ]
    },
    {
      "cell_type": "code",
      "source": [
        "x = torch.tensor(([1,2,3],[2,3,5]))\n",
        "print(x.shape)\n",
        "print(x.ndim)"
      ],
      "metadata": {
        "colab": {
          "base_uri": "https://localhost:8080/"
        },
        "id": "J9kl2WN1wnTs",
        "outputId": "8bcc2fd9-3c2c-4786-f19c-4380db197cb9"
      },
      "execution_count": 5,
      "outputs": [
        {
          "output_type": "stream",
          "name": "stdout",
          "text": [
            "torch.Size([2, 3])\n",
            "2\n"
          ]
        }
      ]
    },
    {
      "cell_type": "code",
      "source": [
        "y = torch.rand(2,3)\n",
        "y"
      ],
      "metadata": {
        "colab": {
          "base_uri": "https://localhost:8080/"
        },
        "id": "xHTwc0p8xWo6",
        "outputId": "ef62f399-d1d2-475b-c6b9-735b2dead2a0"
      },
      "execution_count": 6,
      "outputs": [
        {
          "output_type": "execute_result",
          "data": {
            "text/plain": [
              "tensor([[0.3085, 0.9521, 0.3777],\n",
              "        [0.2675, 0.8790, 0.0396]])"
            ]
          },
          "metadata": {},
          "execution_count": 6
        }
      ]
    },
    {
      "cell_type": "code",
      "source": [
        "y.dtype"
      ],
      "metadata": {
        "colab": {
          "base_uri": "https://localhost:8080/"
        },
        "id": "8r2GPJLUxgbF",
        "outputId": "85ad6804-d04b-46eb-ae6e-a0a0781f1108"
      },
      "execution_count": 7,
      "outputs": [
        {
          "output_type": "execute_result",
          "data": {
            "text/plain": [
              "torch.float32"
            ]
          },
          "metadata": {},
          "execution_count": 7
        }
      ]
    },
    {
      "cell_type": "code",
      "source": [
        "ones = torch.ones(2,3)\n",
        "ones"
      ],
      "metadata": {
        "colab": {
          "base_uri": "https://localhost:8080/"
        },
        "id": "wfdI8VsN1zPf",
        "outputId": "eb15b475-fc8a-49f0-e952-81abd159151b"
      },
      "execution_count": 8,
      "outputs": [
        {
          "output_type": "execute_result",
          "data": {
            "text/plain": [
              "tensor([[1., 1., 1.],\n",
              "        [1., 1., 1.]])"
            ]
          },
          "metadata": {},
          "execution_count": 8
        }
      ]
    },
    {
      "cell_type": "code",
      "source": [
        "zeroes = torch.zeros(2,3)\n",
        "zeroes"
      ],
      "metadata": {
        "colab": {
          "base_uri": "https://localhost:8080/"
        },
        "id": "-um5aHfB14yX",
        "outputId": "fd093b31-c265-43ad-d758-7bfbb91304d0"
      },
      "execution_count": 9,
      "outputs": [
        {
          "output_type": "execute_result",
          "data": {
            "text/plain": [
              "tensor([[0., 0., 0.],\n",
              "        [0., 0., 0.]])"
            ]
          },
          "metadata": {},
          "execution_count": 9
        }
      ]
    },
    {
      "cell_type": "code",
      "source": [
        "random_tensor = torch.rand(2, 4, dtype=torch.float32, device=torch.device('cpu'), requires_grad=False)\n",
        "random_tensor"
      ],
      "metadata": {
        "colab": {
          "base_uri": "https://localhost:8080/"
        },
        "id": "HtofKIgn1-RY",
        "outputId": "c3fa3e09-4249-4bb0-8b4c-142856fbee46"
      },
      "execution_count": 12,
      "outputs": [
        {
          "output_type": "execute_result",
          "data": {
            "text/plain": [
              "tensor([[0.8508, 0.7429, 0.8477, 0.3670],\n",
              "        [0.3493, 0.9767, 0.9890, 0.0402]])"
            ]
          },
          "metadata": {},
          "execution_count": 12
        }
      ]
    },
    {
      "cell_type": "code",
      "source": [
        "random_tensor2 = torch.zeros_like(random_tensor, dtype = torch.float16, device = torch.device('cpu'), requires_grad=False)\n",
        "random_tensor2\n",
        "random_tensor2.dtype"
      ],
      "metadata": {
        "colab": {
          "base_uri": "https://localhost:8080/"
        },
        "id": "QElznMpM2oN7",
        "outputId": "bbcb73b8-f011-4c1f-8b03-748b85dbfcdd"
      },
      "execution_count": 22,
      "outputs": [
        {
          "output_type": "execute_result",
          "data": {
            "text/plain": [
              "torch.float16"
            ]
          },
          "metadata": {},
          "execution_count": 22
        }
      ]
    },
    {
      "cell_type": "code",
      "source": [
        "random_tensor2 = random_tensor2.type(torch.float32)\n",
        "random_tensor2.dtype"
      ],
      "metadata": {
        "colab": {
          "base_uri": "https://localhost:8080/"
        },
        "id": "Y9c2I5Ek3TZf",
        "outputId": "20b74bf2-58c6-4024-c998-4d276a5bc5b5"
      },
      "execution_count": 24,
      "outputs": [
        {
          "output_type": "execute_result",
          "data": {
            "text/plain": [
              "torch.float32"
            ]
          },
          "metadata": {},
          "execution_count": 24
        }
      ]
    },
    {
      "cell_type": "markdown",
      "source": [
        "addtion = just plus two tensors - or use pytorch torch.add\n",
        "substraction = just subtract two tensors or use pytorch torch.subtract\n",
        "scalar multiplication = multiply two tensors * or use pytorch torch.mul()\n",
        "matrix multiplication = use either slow for loop or use pytoch torch.matmul()\n"
      ],
      "metadata": {
        "id": "Kg7JPK-PKHfG"
      }
    },
    {
      "cell_type": "code",
      "source": [
        "tensorA = torch.tensor([[2,3,3],[3,2,2]])\n",
        "tensorA\n",
        "print(tensorA.T)"
      ],
      "metadata": {
        "colab": {
          "base_uri": "https://localhost:8080/"
        },
        "id": "uOV0Udc434rk",
        "outputId": "b0ebcfa1-fd9d-474e-f543-ebce6528fe4a"
      },
      "execution_count": 26,
      "outputs": [
        {
          "output_type": "stream",
          "name": "stdout",
          "text": [
            "tensor([[2, 3],\n",
            "        [3, 2],\n",
            "        [3, 2]])\n"
          ]
        }
      ]
    },
    {
      "cell_type": "code",
      "source": [],
      "metadata": {
        "id": "CCT6DbttKbsH"
      },
      "execution_count": null,
      "outputs": []
    }
  ]
}