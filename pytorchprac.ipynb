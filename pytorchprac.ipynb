{
  "nbformat": 4,
  "nbformat_minor": 0,
  "metadata": {
    "colab": {
      "provenance": [],
      "authorship_tag": "ABX9TyPm2cIqm1CQQtXd+dqlZNfz",
      "include_colab_link": true
    },
    "kernelspec": {
      "name": "python3",
      "display_name": "Python 3"
    },
    "language_info": {
      "name": "python"
    }
  },
  "cells": [
    {
      "cell_type": "markdown",
      "metadata": {
        "id": "view-in-github",
        "colab_type": "text"
      },
      "source": [
        "<a href=\"https://colab.research.google.com/github/MuhammadShavaiz/pytorch-google-colab/blob/main/pytorchprac.ipynb\" target=\"_parent\"><img src=\"https://colab.research.google.com/assets/colab-badge.svg\" alt=\"Open In Colab\"/></a>"
      ]
    },
    {
      "cell_type": "code",
      "execution_count": 4,
      "metadata": {
        "id": "2dnup3gywePL"
      },
      "outputs": [],
      "source": [
        "import torch"
      ]
    },
    {
      "cell_type": "code",
      "source": [
        "x = torch.tensor(([1,2,3],[2,3,5]))\n",
        "print(x.shape)\n",
        "print(x.ndim)"
      ],
      "metadata": {
        "colab": {
          "base_uri": "https://localhost:8080/"
        },
        "id": "J9kl2WN1wnTs",
        "outputId": "8bcc2fd9-3c2c-4786-f19c-4380db197cb9"
      },
      "execution_count": null,
      "outputs": [
        {
          "output_type": "stream",
          "name": "stdout",
          "text": [
            "torch.Size([2, 3])\n",
            "2\n"
          ]
        }
      ]
    },
    {
      "cell_type": "code",
      "source": [
        "y = torch.rand(2,3)\n",
        "y"
      ],
      "metadata": {
        "colab": {
          "base_uri": "https://localhost:8080/"
        },
        "id": "xHTwc0p8xWo6",
        "outputId": "ef62f399-d1d2-475b-c6b9-735b2dead2a0"
      },
      "execution_count": null,
      "outputs": [
        {
          "output_type": "execute_result",
          "data": {
            "text/plain": [
              "tensor([[0.3085, 0.9521, 0.3777],\n",
              "        [0.2675, 0.8790, 0.0396]])"
            ]
          },
          "metadata": {},
          "execution_count": 6
        }
      ]
    },
    {
      "cell_type": "code",
      "source": [
        "y.dtype"
      ],
      "metadata": {
        "colab": {
          "base_uri": "https://localhost:8080/"
        },
        "id": "8r2GPJLUxgbF",
        "outputId": "85ad6804-d04b-46eb-ae6e-a0a0781f1108"
      },
      "execution_count": null,
      "outputs": [
        {
          "output_type": "execute_result",
          "data": {
            "text/plain": [
              "torch.float32"
            ]
          },
          "metadata": {},
          "execution_count": 7
        }
      ]
    },
    {
      "cell_type": "code",
      "source": [
        "ones = torch.ones(2,3)\n",
        "ones"
      ],
      "metadata": {
        "colab": {
          "base_uri": "https://localhost:8080/"
        },
        "id": "wfdI8VsN1zPf",
        "outputId": "eb15b475-fc8a-49f0-e952-81abd159151b"
      },
      "execution_count": null,
      "outputs": [
        {
          "output_type": "execute_result",
          "data": {
            "text/plain": [
              "tensor([[1., 1., 1.],\n",
              "        [1., 1., 1.]])"
            ]
          },
          "metadata": {},
          "execution_count": 8
        }
      ]
    },
    {
      "cell_type": "code",
      "source": [
        "zeroes = torch.zeros(2,3)\n",
        "zeroes"
      ],
      "metadata": {
        "colab": {
          "base_uri": "https://localhost:8080/"
        },
        "id": "-um5aHfB14yX",
        "outputId": "fd093b31-c265-43ad-d758-7bfbb91304d0"
      },
      "execution_count": null,
      "outputs": [
        {
          "output_type": "execute_result",
          "data": {
            "text/plain": [
              "tensor([[0., 0., 0.],\n",
              "        [0., 0., 0.]])"
            ]
          },
          "metadata": {},
          "execution_count": 9
        }
      ]
    },
    {
      "cell_type": "code",
      "source": [
        "random_tensor = torch.rand(2, 4, dtype=torch.float32, device=torch.device('cpu'), requires_grad=False)\n",
        "random_tensor"
      ],
      "metadata": {
        "colab": {
          "base_uri": "https://localhost:8080/"
        },
        "id": "HtofKIgn1-RY",
        "outputId": "c3fa3e09-4249-4bb0-8b4c-142856fbee46"
      },
      "execution_count": null,
      "outputs": [
        {
          "output_type": "execute_result",
          "data": {
            "text/plain": [
              "tensor([[0.8508, 0.7429, 0.8477, 0.3670],\n",
              "        [0.3493, 0.9767, 0.9890, 0.0402]])"
            ]
          },
          "metadata": {},
          "execution_count": 12
        }
      ]
    },
    {
      "cell_type": "code",
      "source": [
        "random_tensor2 = torch.zeros_like(random_tensor, dtype = torch.float16, device = torch.device('cpu'), requires_grad=False)\n",
        "random_tensor2\n",
        "random_tensor2.dtype"
      ],
      "metadata": {
        "colab": {
          "base_uri": "https://localhost:8080/"
        },
        "id": "QElznMpM2oN7",
        "outputId": "bbcb73b8-f011-4c1f-8b03-748b85dbfcdd"
      },
      "execution_count": null,
      "outputs": [
        {
          "output_type": "execute_result",
          "data": {
            "text/plain": [
              "torch.float16"
            ]
          },
          "metadata": {},
          "execution_count": 22
        }
      ]
    },
    {
      "cell_type": "code",
      "source": [
        "random_tensor2 = random_tensor2.type(torch.float32)\n",
        "random_tensor2.dtype"
      ],
      "metadata": {
        "colab": {
          "base_uri": "https://localhost:8080/"
        },
        "id": "Y9c2I5Ek3TZf",
        "outputId": "20b74bf2-58c6-4024-c998-4d276a5bc5b5"
      },
      "execution_count": null,
      "outputs": [
        {
          "output_type": "execute_result",
          "data": {
            "text/plain": [
              "torch.float32"
            ]
          },
          "metadata": {},
          "execution_count": 24
        }
      ]
    },
    {
      "cell_type": "markdown",
      "source": [
        "addtion = just plus two tensors - or use pytorch torch.add\n",
        "substraction = just subtract two tensors or use pytorch torch.subtract\n",
        "scalar multiplication = multiply two tensors * or use pytorch torch.mul()\n",
        "matrix multiplication = use either slow for loop or use pytoch torch.matmul()\n"
      ],
      "metadata": {
        "id": "Kg7JPK-PKHfG"
      }
    },
    {
      "cell_type": "code",
      "source": [
        "tensorA = torch.tensor([[2,3,3],[3,2,2]])\n",
        "tensorA\n",
        "print(tensorA.T)"
      ],
      "metadata": {
        "colab": {
          "base_uri": "https://localhost:8080/"
        },
        "id": "uOV0Udc434rk",
        "outputId": "b0ebcfa1-fd9d-474e-f543-ebce6528fe4a"
      },
      "execution_count": null,
      "outputs": [
        {
          "output_type": "stream",
          "name": "stdout",
          "text": [
            "tensor([[2, 3],\n",
            "        [3, 2],\n",
            "        [3, 2]])\n"
          ]
        }
      ]
    },
    {
      "cell_type": "markdown",
      "source": [
        "finding min, max, mean, sum, argmin, argmax. mean doesnot accept long data type it accepta float or complex dtype\n"
      ],
      "metadata": {
        "id": "dTPB27pKANId"
      }
    },
    {
      "cell_type": "code",
      "source": [
        "x = torch.arange(0,100,10)\n",
        "x"
      ],
      "metadata": {
        "id": "CCT6DbttKbsH",
        "colab": {
          "base_uri": "https://localhost:8080/"
        },
        "outputId": "5cf41277-2d39-4aff-e064-d30e9e0eb79d"
      },
      "execution_count": 5,
      "outputs": [
        {
          "output_type": "execute_result",
          "data": {
            "text/plain": [
              "tensor([ 0, 10, 20, 30, 40, 50, 60, 70, 80, 90])"
            ]
          },
          "metadata": {},
          "execution_count": 5
        }
      ]
    },
    {
      "cell_type": "code",
      "source": [
        "x.min(), torch.min(x)"
      ],
      "metadata": {
        "colab": {
          "base_uri": "https://localhost:8080/"
        },
        "id": "1y0uZT-8Agem",
        "outputId": "d4b5ce43-647a-4174-ea8b-106abef7adeb"
      },
      "execution_count": 9,
      "outputs": [
        {
          "output_type": "execute_result",
          "data": {
            "text/plain": [
              "(tensor(0), tensor(0))"
            ]
          },
          "metadata": {},
          "execution_count": 9
        }
      ]
    },
    {
      "cell_type": "code",
      "source": [
        "x.max(), torch.max(x)"
      ],
      "metadata": {
        "colab": {
          "base_uri": "https://localhost:8080/"
        },
        "id": "4sbJJvykA0iD",
        "outputId": "f03420c9-5745-41b6-d1ee-d83c409a341b"
      },
      "execution_count": 10,
      "outputs": [
        {
          "output_type": "execute_result",
          "data": {
            "text/plain": [
              "(tensor(90), tensor(90))"
            ]
          },
          "metadata": {},
          "execution_count": 10
        }
      ]
    },
    {
      "cell_type": "code",
      "source": [
        "x.type(torch.float32).mean(), torch.mean(x.type(torch.float32))"
      ],
      "metadata": {
        "colab": {
          "base_uri": "https://localhost:8080/"
        },
        "id": "uH2PaQO9A2CM",
        "outputId": "4ded03db-8928-4978-ee4c-21649d5b3db7"
      },
      "execution_count": 14,
      "outputs": [
        {
          "output_type": "execute_result",
          "data": {
            "text/plain": [
              "(tensor(45.), tensor(45.))"
            ]
          },
          "metadata": {},
          "execution_count": 14
        }
      ]
    },
    {
      "cell_type": "code",
      "source": [
        "x.argmax(), torch.argmax(x)"
      ],
      "metadata": {
        "colab": {
          "base_uri": "https://localhost:8080/"
        },
        "id": "p6mt8_7XBEcX",
        "outputId": "73f76db0-753d-474a-af10-194729995736"
      },
      "execution_count": 16,
      "outputs": [
        {
          "output_type": "execute_result",
          "data": {
            "text/plain": [
              "(tensor(9), tensor(9))"
            ]
          },
          "metadata": {},
          "execution_count": 16
        }
      ]
    },
    {
      "cell_type": "code",
      "source": [
        "x.argmin(), torch.argmin(x)"
      ],
      "metadata": {
        "colab": {
          "base_uri": "https://localhost:8080/"
        },
        "id": "bYGbTpVbBY_w",
        "outputId": "9ecba77c-9bf5-407a-c15b-c747d5ce52b0"
      },
      "execution_count": 17,
      "outputs": [
        {
          "output_type": "execute_result",
          "data": {
            "text/plain": [
              "(tensor(0), tensor(0))"
            ]
          },
          "metadata": {},
          "execution_count": 17
        }
      ]
    },
    {
      "cell_type": "markdown",
      "source": [
        "reshaping, viewing, stacking, squeezing and permuting\n",
        "\n",
        "view and permute share the same memory of the original tensor"
      ],
      "metadata": {
        "id": "TjKwqsEAIG7w"
      }
    },
    {
      "cell_type": "code",
      "source": [
        "x = torch.rand(1,3,4)\n",
        "x"
      ],
      "metadata": {
        "colab": {
          "base_uri": "https://localhost:8080/"
        },
        "id": "as4TEwHZBi4y",
        "outputId": "84fb9f87-1368-42f5-8b87-65914e9ade6c"
      },
      "execution_count": 46,
      "outputs": [
        {
          "output_type": "execute_result",
          "data": {
            "text/plain": [
              "tensor([[[0.3608, 0.9249, 0.6386, 0.6550],\n",
              "         [0.1590, 0.7259, 0.9482, 0.0296],\n",
              "         [0.2982, 0.2619, 0.9891, 0.9321]]])"
            ]
          },
          "metadata": {},
          "execution_count": 46
        }
      ]
    },
    {
      "cell_type": "code",
      "source": [
        "x.reshape(4,3)"
      ],
      "metadata": {
        "colab": {
          "base_uri": "https://localhost:8080/"
        },
        "id": "Rp8sfRw7ISTC",
        "outputId": "6f303e25-4952-44ec-94c5-f2e0b57a1047"
      },
      "execution_count": 50,
      "outputs": [
        {
          "output_type": "execute_result",
          "data": {
            "text/plain": [
              "tensor([[0.3608, 0.9249, 0.6386],\n",
              "        [0.6550, 0.1590, 0.7259],\n",
              "        [0.9482, 0.0296, 0.2982],\n",
              "        [0.2619, 1.0000, 0.9321]])"
            ]
          },
          "metadata": {},
          "execution_count": 50
        }
      ]
    },
    {
      "cell_type": "code",
      "source": [
        "z = x.view(1,3,4)\n",
        "z[0,2,2] = 1\n",
        "x"
      ],
      "metadata": {
        "colab": {
          "base_uri": "https://localhost:8080/"
        },
        "id": "gKehj36eInvi",
        "outputId": "12545875-bbc6-49e6-8212-4b7a3f9ca9e4"
      },
      "execution_count": 49,
      "outputs": [
        {
          "output_type": "execute_result",
          "data": {
            "text/plain": [
              "tensor([[[0.3608, 0.9249, 0.6386, 0.6550],\n",
              "         [0.1590, 0.7259, 0.9482, 0.0296],\n",
              "         [0.2982, 0.2619, 1.0000, 0.9321]]])"
            ]
          },
          "metadata": {},
          "execution_count": 49
        }
      ]
    },
    {
      "cell_type": "code",
      "source": [
        "x_stacked = torch.stack((x,x,x), dim = 1)\n",
        "x_stacked"
      ],
      "metadata": {
        "colab": {
          "base_uri": "https://localhost:8080/"
        },
        "id": "lT9vqZT3Iyqm",
        "outputId": "0b133dc5-687a-4ee3-dfac-fbcf60179c6d"
      },
      "execution_count": 51,
      "outputs": [
        {
          "output_type": "execute_result",
          "data": {
            "text/plain": [
              "tensor([[[[0.3608, 0.9249, 0.6386, 0.6550],\n",
              "          [0.1590, 0.7259, 0.9482, 0.0296],\n",
              "          [0.2982, 0.2619, 1.0000, 0.9321]],\n",
              "\n",
              "         [[0.3608, 0.9249, 0.6386, 0.6550],\n",
              "          [0.1590, 0.7259, 0.9482, 0.0296],\n",
              "          [0.2982, 0.2619, 1.0000, 0.9321]],\n",
              "\n",
              "         [[0.3608, 0.9249, 0.6386, 0.6550],\n",
              "          [0.1590, 0.7259, 0.9482, 0.0296],\n",
              "          [0.2982, 0.2619, 1.0000, 0.9321]]]])"
            ]
          },
          "metadata": {},
          "execution_count": 51
        }
      ]
    },
    {
      "cell_type": "code",
      "source": [
        "x_squeezed = x.squeeze()\n",
        "x_squeezed"
      ],
      "metadata": {
        "colab": {
          "base_uri": "https://localhost:8080/"
        },
        "id": "tfLU6eHgJ56Y",
        "outputId": "084ca4d9-b9f0-4b9a-bcad-889b7bd6f5ba"
      },
      "execution_count": 52,
      "outputs": [
        {
          "output_type": "execute_result",
          "data": {
            "text/plain": [
              "tensor([[0.3608, 0.9249, 0.6386, 0.6550],\n",
              "        [0.1590, 0.7259, 0.9482, 0.0296],\n",
              "        [0.2982, 0.2619, 1.0000, 0.9321]])"
            ]
          },
          "metadata": {},
          "execution_count": 52
        }
      ]
    },
    {
      "cell_type": "code",
      "source": [
        "x_unsqueezed = x_squeezed.unsqueeze(dim=0)\n",
        "x_unsqueezed"
      ],
      "metadata": {
        "colab": {
          "base_uri": "https://localhost:8080/"
        },
        "id": "hDYtKrfrLNUm",
        "outputId": "5bbef084-a931-48ee-8049-391c2931cee3"
      },
      "execution_count": 57,
      "outputs": [
        {
          "output_type": "execute_result",
          "data": {
            "text/plain": [
              "tensor([[[0.3608, 0.9249, 0.6386, 0.6550],\n",
              "         [0.1590, 0.7259, 0.9482, 0.0296],\n",
              "         [0.2982, 0.2619, 1.0000, 0.9321]]])"
            ]
          },
          "metadata": {},
          "execution_count": 57
        }
      ]
    },
    {
      "cell_type": "code",
      "source": [
        "print(x_unsqueezed.shape)\n",
        "x_permuted = x_unsqueezed.permute(2,0,1)\n",
        "x_permuted.shape"
      ],
      "metadata": {
        "colab": {
          "base_uri": "https://localhost:8080/"
        },
        "id": "3mH_Uc2YMLOU",
        "outputId": "53554681-ad2b-4861-fa38-8d8088c9e49a"
      },
      "execution_count": 64,
      "outputs": [
        {
          "output_type": "stream",
          "name": "stdout",
          "text": [
            "torch.Size([1, 3, 4])\n"
          ]
        },
        {
          "output_type": "execute_result",
          "data": {
            "text/plain": [
              "torch.Size([4, 1, 3])"
            ]
          },
          "metadata": {},
          "execution_count": 64
        }
      ]
    },
    {
      "cell_type": "markdown",
      "source": [
        "pytorch indexing\n"
      ],
      "metadata": {
        "id": "W5nDM6sEP905"
      }
    },
    {
      "cell_type": "code",
      "source": [
        "a = torch.arange(1,10,1)\n",
        "a_reshape = a.reshape(1,3,3)\n",
        "a_reshape"
      ],
      "metadata": {
        "colab": {
          "base_uri": "https://localhost:8080/"
        },
        "id": "VK6iVoxeM-Ok",
        "outputId": "ff6867bb-3927-4802-eae9-7dd8204be84c"
      },
      "execution_count": 67,
      "outputs": [
        {
          "output_type": "execute_result",
          "data": {
            "text/plain": [
              "tensor([[[1, 2, 3],\n",
              "         [4, 5, 6],\n",
              "         [7, 8, 9]]])"
            ]
          },
          "metadata": {},
          "execution_count": 67
        }
      ]
    },
    {
      "cell_type": "code",
      "source": [
        "a_reshape[0,:,2]"
      ],
      "metadata": {
        "colab": {
          "base_uri": "https://localhost:8080/"
        },
        "id": "A2B1OKR4QXy4",
        "outputId": "dab58000-c5a2-43db-ce9d-392e11863317"
      },
      "execution_count": 71,
      "outputs": [
        {
          "output_type": "execute_result",
          "data": {
            "text/plain": [
              "tensor([3, 6, 9])"
            ]
          },
          "metadata": {},
          "execution_count": 71
        }
      ]
    },
    {
      "cell_type": "markdown",
      "source": [
        "numpy and pytorch"
      ],
      "metadata": {
        "id": "zhMXUVKHdRjW"
      }
    },
    {
      "cell_type": "code",
      "source": [
        "import numpy as np"
      ],
      "metadata": {
        "id": "PG2iPY_ydVWZ"
      },
      "execution_count": 72,
      "outputs": []
    },
    {
      "cell_type": "code",
      "source": [
        "array = np.arange(1.0, 8.0)\n",
        "array\n",
        "tensor = torch.from_numpy(array)\n",
        "tensor"
      ],
      "metadata": {
        "colab": {
          "base_uri": "https://localhost:8080/"
        },
        "id": "pADAXaJPQruM",
        "outputId": "5e267361-e272-4731-a7f4-88ddf9540f80"
      },
      "execution_count": 74,
      "outputs": [
        {
          "output_type": "execute_result",
          "data": {
            "text/plain": [
              "tensor([1., 2., 3., 4., 5., 6., 7.], dtype=torch.float64)"
            ]
          },
          "metadata": {},
          "execution_count": 74
        }
      ]
    },
    {
      "cell_type": "code",
      "source": [
        "tensor1 = torch.arange(1.0, 8.0)\n",
        "tensor1\n",
        "array1 = tensor1.numpy()\n",
        "array1"
      ],
      "metadata": {
        "colab": {
          "base_uri": "https://localhost:8080/"
        },
        "id": "1fwZ9P0rdaMp",
        "outputId": "d92c3b3e-582d-4fa9-f99f-1298549469b7"
      },
      "execution_count": 78,
      "outputs": [
        {
          "output_type": "execute_result",
          "data": {
            "text/plain": [
              "array([1., 2., 3., 4., 5., 6., 7.], dtype=float32)"
            ]
          },
          "metadata": {},
          "execution_count": 78
        }
      ]
    },
    {
      "cell_type": "markdown",
      "source": [
        "#reproducibility\n",
        "torch.manualseed() enables same random numbers to be generated whenever the code is run"
      ],
      "metadata": {
        "id": "CH95x1LpgJVh"
      }
    },
    {
      "cell_type": "code",
      "source": [
        "random_seed = 42\n",
        "torch.manual_seed(random_seed)\n",
        "tensora = torch.rand(2,2)\n",
        "torch.manual_seed(random_seed)\n",
        "tensorb = torch.rand(2,2)\n",
        "print(tensora)\n",
        "print(tensorb)\n",
        "print(tensora == tensorb)"
      ],
      "metadata": {
        "colab": {
          "base_uri": "https://localhost:8080/"
        },
        "id": "cDYBmUI9d1Dd",
        "outputId": "c40a68f5-d6b4-4e86-b11b-b2bb17e16635"
      },
      "execution_count": 79,
      "outputs": [
        {
          "output_type": "stream",
          "name": "stdout",
          "text": [
            "tensor([[0.8823, 0.9150],\n",
            "        [0.3829, 0.9593]])\n",
            "tensor([[0.8823, 0.9150],\n",
            "        [0.3829, 0.9593]])\n",
            "tensor([[True, True],\n",
            "        [True, True]])\n"
          ]
        }
      ]
    },
    {
      "cell_type": "markdown",
      "source": [
        "#checking for gpu"
      ],
      "metadata": {
        "id": "etbMatdIlSuR"
      }
    },
    {
      "cell_type": "code",
      "source": [
        "device = 'cuda' if torch.cuda.is_available() else 'cpu'\n",
        "print(device)"
      ],
      "metadata": {
        "colab": {
          "base_uri": "https://localhost:8080/"
        },
        "id": "Llc2w18tgj_S",
        "outputId": "3d7b5831-0ed5-40ee-cc25-aceaebb4e8fa"
      },
      "execution_count": 80,
      "outputs": [
        {
          "output_type": "stream",
          "name": "stdout",
          "text": [
            "cpu\n"
          ]
        }
      ]
    },
    {
      "cell_type": "code",
      "source": [
        "tensorc = torch.rand(2,2)\n",
        "tensorc.device"
      ],
      "metadata": {
        "colab": {
          "base_uri": "https://localhost:8080/"
        },
        "id": "MjXyql_flmmJ",
        "outputId": "adfdfabd-7765-45aa-b50a-d177a44db1f5"
      },
      "execution_count": 92,
      "outputs": [
        {
          "output_type": "execute_result",
          "data": {
            "text/plain": [
              "device(type='cpu')"
            ]
          },
          "metadata": {},
          "execution_count": 92
        }
      ]
    },
    {
      "cell_type": "code",
      "source": [
        "tensor_on_gpu = tensorc.to(device) #or tensorc.cuda()\n",
        "tensor_on_gpu.device"
      ],
      "metadata": {
        "colab": {
          "base_uri": "https://localhost:8080/"
        },
        "id": "PGP4OP6RlwqF",
        "outputId": "2062ec6e-79e1-4ee2-e910-25e4df9f12df"
      },
      "execution_count": 85,
      "outputs": [
        {
          "output_type": "execute_result",
          "data": {
            "text/plain": [
              "device(type='cpu')"
            ]
          },
          "metadata": {},
          "execution_count": 85
        }
      ]
    },
    {
      "cell_type": "code",
      "source": [
        "tensor_on_cpu = tensor_on_gpu.cpu()\n",
        "tensor_on_cpu"
      ],
      "metadata": {
        "colab": {
          "base_uri": "https://localhost:8080/"
        },
        "id": "5XJQdUXkl37Q",
        "outputId": "d7dc24c1-6bf6-494b-c6ae-9e47a2b76674"
      },
      "execution_count": 90,
      "outputs": [
        {
          "output_type": "execute_result",
          "data": {
            "text/plain": [
              "tensor([[0.3904, 0.6009],\n",
              "        [0.2566, 0.7936]])"
            ]
          },
          "metadata": {},
          "execution_count": 90
        }
      ]
    },
    {
      "cell_type": "code",
      "source": [],
      "metadata": {
        "id": "Z2ZU0YlpmK0m"
      },
      "execution_count": null,
      "outputs": []
    }
  ]
}