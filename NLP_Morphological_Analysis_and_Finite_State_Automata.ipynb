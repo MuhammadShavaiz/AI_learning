{
  "nbformat": 4,
  "nbformat_minor": 0,
  "metadata": {
    "colab": {
      "provenance": [],
      "authorship_tag": "ABX9TyNA0v/nPasgIWy654N9VY2Q",
      "include_colab_link": true
    },
    "kernelspec": {
      "name": "python3",
      "display_name": "Python 3"
    },
    "language_info": {
      "name": "python"
    }
  },
  "cells": [
    {
      "cell_type": "markdown",
      "metadata": {
        "id": "view-in-github",
        "colab_type": "text"
      },
      "source": [
        "<a href=\"https://colab.research.google.com/github/MuhammadShavaiz/AI_learning/blob/main/NLP_Morphological_Analysis_and_Finite_State_Automata.ipynb\" target=\"_parent\"><img src=\"https://colab.research.google.com/assets/colab-badge.svg\" alt=\"Open In Colab\"/></a>"
      ]
    },
    {
      "cell_type": "markdown",
      "source": [
        "### Categorizing Plural Nouns and Past Tense Verbs\n",
        "This task involves using Python to classify a list of nouns and verbs into regular and irregular forms based on established linguistic rules.\n",
        "\n",
        "\n",
        "\n",
        "\n",
        "\n",
        "\n"
      ],
      "metadata": {
        "id": "HNP5CeN2dB-h"
      }
    },
    {
      "cell_type": "code",
      "execution_count": 5,
      "metadata": {
        "colab": {
          "base_uri": "https://localhost:8080/"
        },
        "id": "LLc4mfH5bSyh",
        "outputId": "ae839570-953f-4f62-d322-fbe9bbad3237"
      },
      "outputs": [
        {
          "output_type": "stream",
          "name": "stdout",
          "text": [
            "Regular Plurals: ['cats', 'dogs', 'books', 'cars', 'cities', 'babies', 'berries', 'ladies', 'puppies', 'kittens', 'sheeps', 'lilies', 'photos', 'families', 'parties', 'keys', 'toys', 'stories', 'pianos', 'tomatoes', 'potatoes', 'memos', 'photos', 'zeros']\n",
            "Irregular Plurals: ['boxes', 'children', 'men', 'women', 'buses', 'fishes', 'mice', 'feet', 'leaves', 'geese', 'teeth', 'cacti', 'churches', 'dishes', 'classes', 'cacti']\n",
            "Regular Past Tense: ['walked', 'jumped', 'liked', 'talked', 'played', 'cried', 'tried', 'studied', 'worked', 'visited', 'enjoyed', 'asked', 'watched', 'listened', 'hurried', 'decided', 'created', 'painted', 'smiled', 'called', 'helped', 'loved', 'fixed', 'climbed', 'danced', 'arrived', 'cried', 'washed', 'carried', 'filled', 'started', 'finished', 'answered', 'believed', 'changed', 'looked', 'decided', 'needed', 'wanted', 'opened', 'closed', 'baked', 'jumped', 'painted', 'discovered']\n",
            "Irregular Past Tense: ['ran', 'had', 'leapt', 'went', 'was']\n"
          ]
        }
      ],
      "source": [
        "# Define the regular noun and verb rules\n",
        "regular_rules = {\n",
        "    'nouns': {\n",
        "        's': lambda word: word + 's',  # Default rule for regular plurals\n",
        "        'es': lambda word: word + 'es',  # Rule for nouns ending in s, x, z, sh, or ch\n",
        "        'ies': lambda word: word[:-1] + 'ies',  # Rule for nouns ending in consonant + y\n",
        "        'o_es': lambda word: word + 'es'\n",
        "    },\n",
        "    'verbs': {\n",
        "        'ed': lambda word: word + 'ed',  # Default rule for regular past tense\n",
        "        'ied': lambda word: word[:-1] + 'ied',  # Rule for verbs ending in consonant + y\n",
        "        'd': lambda word: word + 'd'  # Rule for verbs ending in e\n",
        "    }\n",
        "}\n",
        "\n",
        "# Define irregular plural and past tense forms\n",
        "irregular_noun_forms = {\n",
        "    'child': 'children',\n",
        "    'foot': 'feet',\n",
        "    'mouse': 'mice',\n",
        "    'man': 'men',\n",
        "    'woman':'women',\n",
        "    'lead':'leaves',\n",
        "    'goose':'geese',\n",
        "    'tooth':'teeth',\n",
        "    'cactus':'cacti',\n",
        "    'leaf':'leaves'\n",
        "}\n",
        "\n",
        "irregular_verb_forms = {\n",
        "    'go': 'went',\n",
        "    'be': 'was',\n",
        "    'leap': 'leapt',\n",
        "    'have': 'had',\n",
        "    'run':'ran'\n",
        "}\n",
        "# Nouns that take 'es' when pluralized and exceptions\n",
        "nouns_ending_with_o = ['tomato', 'potato', 'hero', 'cargo', 'mango', 'volcano', 'buffalo', 'memento', 'tornado']\n",
        "\n",
        "# Function to categorize nouns and verbs into regular/irregular forms\n",
        "def categorize_words(nouns, verbs):\n",
        "    regular_plurals = []\n",
        "    irregular_plurals = []\n",
        "    regular_past_tense = []\n",
        "    irregular_past_tense = []\n",
        "\n",
        "    # Process nouns\n",
        "    for noun in nouns:\n",
        "        if noun in irregular_noun_forms:\n",
        "            irregular_plurals.append(irregular_noun_forms[noun])\n",
        "        elif noun.endswith(('s', 'x', 'z', 'sh', 'ch')):\n",
        "            irregular_plurals.append(regular_rules['nouns']['es'](noun))\n",
        "        elif noun.endswith('y') and noun[-2] not in 'aeiou':\n",
        "            regular_plurals.append(regular_rules['nouns']['ies'](noun))\n",
        "        elif noun.endswith('o'):\n",
        "            # Rule for nouns ending with 'o'\n",
        "            if noun in nouns_ending_with_o:\n",
        "                regular_plurals.append(regular_rules['nouns']['es'](noun))  # Take 'es' for specific nouns\n",
        "            else:\n",
        "                regular_plurals.append(regular_rules['nouns']['s'](noun))  # Otherwise just add 's'\n",
        "        else:\n",
        "            regular_plurals.append(regular_rules['nouns']['s'](noun))\n",
        "\n",
        "    # Process verbs\n",
        "    for verb in verbs:\n",
        "        if verb in irregular_verb_forms:\n",
        "            irregular_past_tense.append(irregular_verb_forms[verb])\n",
        "        elif verb.endswith('y') and verb[-2] not in 'aeiou':\n",
        "            regular_past_tense.append(regular_rules['verbs']['ied'](verb))\n",
        "        elif verb.endswith('e'):\n",
        "            regular_past_tense.append(regular_rules['verbs']['d'](verb))\n",
        "        else:\n",
        "            regular_past_tense.append(regular_rules['verbs']['ed'](verb))\n",
        "\n",
        "    return {\n",
        "        'Regular Plurals': regular_plurals,\n",
        "        'Irregular Plurals': irregular_plurals,\n",
        "        'Regular Past Tense': regular_past_tense,\n",
        "        'Irregular Past Tense': irregular_past_tense\n",
        "    }\n",
        "\n",
        "# Sample input: a larger list of nouns and verbs\n",
        "nouns = [\n",
        "    'cat', 'dog', 'book', 'box', 'child', 'man', 'woman', 'car',\n",
        "    'bus', 'city', 'baby', 'berry', 'lady', 'puppy', 'kitten',\n",
        "    'fish', 'sheep', 'mouse', 'foot', 'leaf', 'goose', 'tooth',\n",
        "    'cactus', 'lily', 'photo', 'church', 'dish',\n",
        "    'class', 'family', 'party', 'key', 'toy', 'story', 'piano',\n",
        "    'tomato', 'potato', 'memo', 'photo', 'cactus', 'zero'\n",
        "]\n",
        "\n",
        "verbs = [\n",
        "    'walk', 'run', 'jump', 'like', 'talk', 'play', 'cry', 'try',\n",
        "    'study', 'work', 'visit', 'enjoy', 'ask', 'watch', 'listen',\n",
        "    'hurry', 'decide', 'create', 'paint', 'smile', 'call',\n",
        "    'help', 'love', 'fix', 'climb','have', 'leap', 'dance', 'arrive',\n",
        "    'cry', 'wash', 'carry', 'fill', 'start', 'finish',\n",
        "    'answer', 'believe', 'change', 'look', 'decide',\n",
        "    'need', 'want', 'open', 'close', 'bake', 'jump', 'paint',\n",
        "    'discover','go','be'\n",
        "]\n",
        "\n",
        "# Get the categorized results\n",
        "output = categorize_words(nouns, verbs)\n",
        "\n",
        "# Print the results\n",
        "for category, words in output.items():\n",
        "    print(f\"{category}: {words}\")\n"
      ]
    },
    {
      "cell_type": "markdown",
      "source": [],
      "metadata": {
        "id": "fu5DugTyiwIh"
      }
    },
    {
      "cell_type": "code",
      "source": [],
      "metadata": {
        "id": "9wyM870Jdc9j"
      },
      "execution_count": null,
      "outputs": []
    }
  ]
}