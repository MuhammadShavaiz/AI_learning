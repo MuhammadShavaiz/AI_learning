{
  "nbformat": 4,
  "nbformat_minor": 0,
  "metadata": {
    "colab": {
      "provenance": [],
      "authorship_tag": "ABX9TyMHjwl05CQMn+DJ3CP0kgvg",
      "include_colab_link": true
    },
    "kernelspec": {
      "name": "python3",
      "display_name": "Python 3"
    },
    "language_info": {
      "name": "python"
    }
  },
  "cells": [
    {
      "cell_type": "markdown",
      "metadata": {
        "id": "view-in-github",
        "colab_type": "text"
      },
      "source": [
        "<a href=\"https://colab.research.google.com/github/MuhammadShavaiz/AI_learning/blob/main/bigram_LLM1.ipynb\" target=\"_parent\"><img src=\"https://colab.research.google.com/assets/colab-badge.svg\" alt=\"Open In Colab\"/></a>"
      ]
    },
    {
      "cell_type": "code",
      "source": [
        "import torch\n",
        "import numpy as np\n",
        "import torch.nn as nn"
      ],
      "metadata": {
        "id": "5NqPXCamNQ8H"
      },
      "execution_count": 1,
      "outputs": []
    },
    {
      "cell_type": "code",
      "execution_count": 2,
      "metadata": {
        "colab": {
          "base_uri": "https://localhost:8080/"
        },
        "id": "pn1RuWbgE_QH",
        "outputId": "37e6117c-bd05-4b9c-ec80-5a33a5b2706c"
      },
      "outputs": [
        {
          "output_type": "stream",
          "name": "stdout",
          "text": [
            "252022\n"
          ]
        }
      ],
      "source": [
        "with open('wizard_of_oz.txt', 'r', encoding = 'utf-8') as f:\n",
        "  text = f.read()\n",
        "print(len(text))"
      ]
    },
    {
      "cell_type": "code",
      "source": [
        "chars = sorted(set(text))\n",
        "print(chars)\n",
        "print(len(chars))"
      ],
      "metadata": {
        "colab": {
          "base_uri": "https://localhost:8080/"
        },
        "id": "taM6jykTJvtF",
        "outputId": "f4f47775-9c88-4c9b-db76-2b511024ef34"
      },
      "execution_count": 3,
      "outputs": [
        {
          "output_type": "stream",
          "name": "stdout",
          "text": [
            "['\\n', ' ', '!', '\"', '#', '$', '%', '&', \"'\", '(', ')', '*', ',', '-', '.', '/', '0', '1', '2', '3', '4', '5', '6', '7', '8', '9', ':', ';', '?', 'A', 'B', 'C', 'D', 'E', 'F', 'G', 'H', 'I', 'J', 'K', 'L', 'M', 'N', 'O', 'P', 'Q', 'R', 'S', 'T', 'U', 'V', 'W', 'X', 'Y', 'Z', '[', ']', '_', 'a', 'b', 'c', 'd', 'e', 'f', 'g', 'h', 'i', 'j', 'k', 'l', 'm', 'n', 'o', 'p', 'q', 'r', 's', 't', 'u', 'v', 'w', 'x', 'y', 'z', '—', '‘', '’', '“', '”', '•', '™', '\\ufeff']\n",
            "92\n"
          ]
        }
      ]
    },
    {
      "cell_type": "code",
      "source": [
        "char_to_int = {ch:i for i ,ch in enumerate(chars)}\n",
        "int_to_char = {i:ch for i, ch in enumerate(chars)}\n",
        "encode = lambda x: [char_to_int[c] for c in x]\n",
        "decode = lambda y: ''.join([int_to_char[i] for i in y])\n",
        "encoded_shavaiz = encode('shavaiz')\n",
        "decoded_shavaiz = decode(encoded_shavaiz)\n",
        "print(encoded_shavaiz, decoded_shavaiz)"
      ],
      "metadata": {
        "colab": {
          "base_uri": "https://localhost:8080/"
        },
        "id": "QBrbTSdxJ7IG",
        "outputId": "6073dc26-1d7c-41d4-d5ae-5d5ab969fa4f"
      },
      "execution_count": 4,
      "outputs": [
        {
          "output_type": "stream",
          "name": "stdout",
          "text": [
            "[76, 65, 58, 79, 58, 66, 83] shavaiz\n"
          ]
        }
      ]
    },
    {
      "cell_type": "code",
      "source": [
        "data = torch.tensor(encode(text), dtype = torch.long)\n",
        "print(data[:100])"
      ],
      "metadata": {
        "colab": {
          "base_uri": "https://localhost:8080/"
        },
        "id": "3hEos6CiLjtL",
        "outputId": "9b3b8744-5047-47a2-db29-0e9da39ccdb5"
      },
      "execution_count": 5,
      "outputs": [
        {
          "output_type": "stream",
          "name": "stdout",
          "text": [
            "tensor([91, 48, 65, 62,  1, 44, 75, 72, 67, 62, 60, 77,  1, 35, 78, 77, 62, 71,\n",
            "        59, 62, 75, 64,  1, 62, 30, 72, 72, 68,  1, 72, 63,  1, 32, 72, 75, 72,\n",
            "        77, 65, 82,  1, 58, 71, 61,  1, 77, 65, 62,  1, 51, 66, 83, 58, 75, 61,\n",
            "         1, 66, 71,  1, 43, 83,  0,  1,  1,  1,  1,  0, 48, 65, 66, 76,  1, 62,\n",
            "        59, 72, 72, 68,  1, 66, 76,  1, 63, 72, 75,  1, 77, 65, 62,  1, 78, 76,\n",
            "        62,  1, 72, 63,  1, 58, 71, 82, 72, 71])\n"
          ]
        }
      ]
    },
    {
      "cell_type": "code",
      "source": [
        "print(decode(data[:100].numpy()))"
      ],
      "metadata": {
        "colab": {
          "base_uri": "https://localhost:8080/"
        },
        "id": "M3uyCUKgNdtt",
        "outputId": "b91a147e-5a42-43f1-bde0-a1ab224327d4"
      },
      "execution_count": 6,
      "outputs": [
        {
          "output_type": "stream",
          "name": "stdout",
          "text": [
            "﻿The Project Gutenberg eBook of Dorothy and the Wizard in Oz\n",
            "    \n",
            "This ebook is for the use of anyon\n"
          ]
        }
      ]
    },
    {
      "cell_type": "code",
      "source": [
        "device = torch.device('cuda' if torch.cuda.is_available() else 'cpu')\n",
        "block_size = 8\n",
        "batch_size = 4"
      ],
      "metadata": {
        "id": "Lbp7S233SYEv"
      },
      "execution_count": 8,
      "outputs": []
    },
    {
      "cell_type": "code",
      "source": [
        "n = int(0.8 * len(data))\n",
        "train_data = data[:n]\n",
        "test_data = data[n:]\n",
        "def get_batch(split):\n",
        "  data = train_data if split == 'train' else test_data\n",
        "  ix = torch.randint(len(data) - block_size, (batch_size,))\n",
        "  print(ix)\n",
        "  x = torch.stack([data[i:i+block_size]for i in ix])\n",
        "  y = torch.stack([data[i+1:i+block_size+1]for i in ix])\n",
        "  x,y = x.to(device), y.to(device)\n",
        "  return x,y\n",
        "x,y = get_batch('train')\n",
        "print(f'x:{x}')\n",
        "print(f'y:{y}')"
      ],
      "metadata": {
        "id": "JeZxXOqsNkf8",
        "colab": {
          "base_uri": "https://localhost:8080/"
        },
        "outputId": "ed113e5b-78fb-4c14-917a-58bfe1ceda95"
      },
      "execution_count": 13,
      "outputs": [
        {
          "output_type": "stream",
          "name": "stdout",
          "text": [
            "tensor([ 57171,  53418,   2802, 162407])\n",
            "x:tensor([[58, 75, 72, 78, 71, 61,  1, 77],\n",
            "        [82,  1, 67, 78, 61, 64, 70, 62],\n",
            "        [ 1, 37,  1, 61, 72,  1, 59, 78],\n",
            "        [75, 76, 12,  1, 77, 72, 72, 14]])\n",
            "y:tensor([[75, 72, 78, 71, 61,  1, 77, 65],\n",
            "        [ 1, 67, 78, 61, 64, 70, 62, 71],\n",
            "        [37,  1, 61, 72,  1, 59, 78, 77],\n",
            "        [76, 12,  1, 77, 72, 72, 14,  3]])\n"
          ]
        }
      ]
    },
    {
      "cell_type": "code",
      "source": [
        "x = train_data[:block_size]\n",
        "y = train_data[1:block_size+1]\n",
        "for i in range(block_size):\n",
        "  context = x[:i+1]\n",
        "  target = y[i]\n",
        "  print(f'when context is {context}, target is {target}')"
      ],
      "metadata": {
        "colab": {
          "base_uri": "https://localhost:8080/"
        },
        "id": "nvl_PW4JSjZz",
        "outputId": "ad4698f7-9617-4029-af44-5b6fe98199d1"
      },
      "execution_count": 9,
      "outputs": [
        {
          "output_type": "stream",
          "name": "stdout",
          "text": [
            "when context is tensor([91]), target is 48\n",
            "when context is tensor([91, 48]), target is 65\n",
            "when context is tensor([91, 48, 65]), target is 62\n",
            "when context is tensor([91, 48, 65, 62]), target is 1\n",
            "when context is tensor([91, 48, 65, 62,  1]), target is 44\n",
            "when context is tensor([91, 48, 65, 62,  1, 44]), target is 75\n",
            "when context is tensor([91, 48, 65, 62,  1, 44, 75]), target is 72\n",
            "when context is tensor([91, 48, 65, 62,  1, 44, 75, 72]), target is 67\n"
          ]
        }
      ]
    },
    {
      "cell_type": "markdown",
      "source": [
        "example of extracing a word of four letter from vector space"
      ],
      "metadata": {
        "id": "UBdqhOMecX8U"
      }
    },
    {
      "cell_type": "code",
      "source": [
        "vocab_size = 10000\n",
        "embedding_dim = 100\n",
        "embedding = nn.Embedding(vocab_size, embedding_dim)\n",
        "input_indices = torch.LongTensor([1,5,3,2])\n",
        "embedded_output = embedding(input_indices)\n",
        "print(embedded_output.shape)"
      ],
      "metadata": {
        "colab": {
          "base_uri": "https://localhost:8080/"
        },
        "id": "Y0Xk0OGZUoSM",
        "outputId": "c8e743fd-3c60-4f3b-ea8a-14da022eb139"
      },
      "execution_count": 10,
      "outputs": [
        {
          "output_type": "stream",
          "name": "stdout",
          "text": [
            "torch.Size([4, 100])\n"
          ]
        }
      ]
    },
    {
      "cell_type": "code",
      "source": [
        "class BigramLanguageModel(nn.Module):\n",
        "  def __init__(self,vocab_size):\n",
        "    super().__init__()\n",
        "    self.token_embedding_table = nn.Embedding(vocab_size, vocab_size)\n",
        "  def forward(self,index,targets):\n",
        "    logits = self.token_embedding_table(index)\n",
        "    return logits"
      ],
      "metadata": {
        "id": "BCJo3J6Na8vZ"
      },
      "execution_count": 14,
      "outputs": []
    },
    {
      "cell_type": "code",
      "source": [],
      "metadata": {
        "id": "SrXPlL90sm2s"
      },
      "execution_count": null,
      "outputs": []
    }
  ]
}