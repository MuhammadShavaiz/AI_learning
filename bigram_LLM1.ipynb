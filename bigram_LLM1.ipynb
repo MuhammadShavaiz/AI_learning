{
  "nbformat": 4,
  "nbformat_minor": 0,
  "metadata": {
    "colab": {
      "provenance": [],
      "authorship_tag": "ABX9TyMO0x+7KT+8nRYK78Lgerav",
      "include_colab_link": true
    },
    "kernelspec": {
      "name": "python3",
      "display_name": "Python 3"
    },
    "language_info": {
      "name": "python"
    }
  },
  "cells": [
    {
      "cell_type": "markdown",
      "metadata": {
        "id": "view-in-github",
        "colab_type": "text"
      },
      "source": [
        "<a href=\"https://colab.research.google.com/github/MuhammadShavaiz/AI_learning/blob/main/bigram_LLM1.ipynb\" target=\"_parent\"><img src=\"https://colab.research.google.com/assets/colab-badge.svg\" alt=\"Open In Colab\"/></a>"
      ]
    },
    {
      "cell_type": "code",
      "source": [
        "import torch\n",
        "import numpy as np"
      ],
      "metadata": {
        "id": "5NqPXCamNQ8H"
      },
      "execution_count": 11,
      "outputs": []
    },
    {
      "cell_type": "code",
      "execution_count": 2,
      "metadata": {
        "colab": {
          "base_uri": "https://localhost:8080/"
        },
        "id": "pn1RuWbgE_QH",
        "outputId": "6340d50e-d1aa-4316-c70c-2d9e59b2bcf2"
      },
      "outputs": [
        {
          "output_type": "stream",
          "name": "stdout",
          "text": [
            "233427\n"
          ]
        }
      ],
      "source": [
        "with open('wizard_of_oz.txt', 'r', encoding = 'utf-8') as f:\n",
        "  text = f.read()\n",
        "print(len(text))"
      ]
    },
    {
      "cell_type": "code",
      "source": [
        "chars = sorted(set(text))\n",
        "print(chars)\n",
        "print(len(chars))"
      ],
      "metadata": {
        "colab": {
          "base_uri": "https://localhost:8080/"
        },
        "id": "taM6jykTJvtF",
        "outputId": "63c7285f-ff2d-478a-a775-b366b845bae2"
      },
      "execution_count": 4,
      "outputs": [
        {
          "output_type": "stream",
          "name": "stdout",
          "text": [
            "['\\n', ' ', '!', '\"', '#', '&', \"'\", '(', ')', '*', ',', '-', '.', '/', '0', '1', '2', '3', '4', '5', '6', '7', '8', '9', ':', ';', '?', 'A', 'B', 'C', 'D', 'E', 'F', 'G', 'H', 'I', 'J', 'K', 'L', 'M', 'N', 'O', 'P', 'Q', 'R', 'S', 'T', 'U', 'V', 'W', 'X', 'Y', 'Z', '[', ']', '_', 'a', 'b', 'c', 'd', 'e', 'f', 'g', 'h', 'i', 'j', 'k', 'l', 'm', 'n', 'o', 'p', 'q', 'r', 's', 't', 'u', 'v', 'w', 'x', 'y', 'z']\n",
            "82\n"
          ]
        }
      ]
    },
    {
      "cell_type": "code",
      "source": [
        "char_to_int = {ch:i for i ,ch in enumerate(chars)}\n",
        "int_to_char = {i:ch for i, ch in enumerate(chars)}\n",
        "encode = lambda x: [char_to_int[c] for c in x]\n",
        "decode = lambda y: ''.join([int_to_char[i] for i in y])\n",
        "encoded_shavaiz = encode('shavaiz')\n",
        "decoded_shavaiz = decode(encoded_shavaiz)\n",
        "print(encoded_shavaiz, decoded_shavaiz)"
      ],
      "metadata": {
        "colab": {
          "base_uri": "https://localhost:8080/"
        },
        "id": "QBrbTSdxJ7IG",
        "outputId": "0d46db6f-5825-4a7f-cc0b-0df41c4ede95"
      },
      "execution_count": 6,
      "outputs": [
        {
          "output_type": "stream",
          "name": "stdout",
          "text": [
            "[74, 63, 56, 77, 56, 64, 81] shavaiz\n"
          ]
        }
      ]
    },
    {
      "cell_type": "code",
      "source": [
        "data = torch.tensor(encode(text), dtype = torch.long)\n",
        "print(data[:100])"
      ],
      "metadata": {
        "colab": {
          "base_uri": "https://localhost:8080/"
        },
        "id": "3hEos6CiLjtL",
        "outputId": "39326691-64b7-4cc0-d599-3152015a6abc"
      },
      "execution_count": 8,
      "outputs": [
        {
          "output_type": "stream",
          "name": "stdout",
          "text": [
            "tensor([46, 63, 60,  1, 42, 73, 70, 65, 60, 58, 75,  1, 33, 76, 75, 60, 69, 57,\n",
            "        60, 73, 62,  1, 60, 28, 70, 70, 66,  1, 70, 61,  1, 30, 70, 73, 70, 75,\n",
            "        63, 80,  1, 56, 69, 59,  1, 75, 63, 60,  1, 49, 64, 81, 56, 73, 59,  1,\n",
            "        64, 69,  1, 41, 81,  0,  1,  1,  1,  1,  0, 46, 63, 64, 74,  1, 60, 57,\n",
            "        70, 70, 66,  1, 64, 74,  1, 61, 70, 73,  1, 75, 63, 60,  1, 76, 74, 60,\n",
            "         1, 70, 61,  1, 56, 69, 80, 70, 69, 60])\n"
          ]
        }
      ]
    },
    {
      "cell_type": "code",
      "source": [
        "print(decode(data[:100].numpy()))"
      ],
      "metadata": {
        "colab": {
          "base_uri": "https://localhost:8080/"
        },
        "id": "M3uyCUKgNdtt",
        "outputId": "6e4f41e2-06c8-4155-bf52-234d41c741fb"
      },
      "execution_count": 12,
      "outputs": [
        {
          "output_type": "stream",
          "name": "stdout",
          "text": [
            "The Project Gutenberg eBook of Dorothy and the Wizard in Oz\n",
            "    \n",
            "This ebook is for the use of anyone\n"
          ]
        }
      ]
    },
    {
      "cell_type": "code",
      "source": [
        "n = int(0.8 * len(data))\n",
        "train_data = data[:n]\n",
        "test_data = data[n:]"
      ],
      "metadata": {
        "id": "JeZxXOqsNkf8"
      },
      "execution_count": 13,
      "outputs": []
    },
    {
      "cell_type": "code",
      "source": [
        "device = torch.device('cuda' if torch.cuda.is_available() else 'cpu')\n",
        "block_size = 8\n",
        "batch_size = 4"
      ],
      "metadata": {
        "id": "Lbp7S233SYEv"
      },
      "execution_count": 14,
      "outputs": []
    },
    {
      "cell_type": "code",
      "source": [
        "x = train_data[:block_size]\n",
        "y = train_data[1:block_size+1]\n",
        "for i in range(block_size):\n",
        "  context = x[:i+1]\n",
        "  target = y[i]\n",
        "  print(f'when context is {context}, target is {target}')"
      ],
      "metadata": {
        "colab": {
          "base_uri": "https://localhost:8080/"
        },
        "id": "nvl_PW4JSjZz",
        "outputId": "b1bbf541-fb27-472c-f019-98dccfbebe70"
      },
      "execution_count": 16,
      "outputs": [
        {
          "output_type": "stream",
          "name": "stdout",
          "text": [
            "when context is tensor([46]), target is 63\n",
            "when context is tensor([46, 63]), target is 60\n",
            "when context is tensor([46, 63, 60]), target is 1\n",
            "when context is tensor([46, 63, 60,  1]), target is 42\n",
            "when context is tensor([46, 63, 60,  1, 42]), target is 73\n",
            "when context is tensor([46, 63, 60,  1, 42, 73]), target is 70\n",
            "when context is tensor([46, 63, 60,  1, 42, 73, 70]), target is 65\n",
            "when context is tensor([46, 63, 60,  1, 42, 73, 70, 65]), target is 60\n"
          ]
        }
      ]
    },
    {
      "cell_type": "code",
      "source": [],
      "metadata": {
        "id": "Y0Xk0OGZUoSM"
      },
      "execution_count": null,
      "outputs": []
    }
  ]
}